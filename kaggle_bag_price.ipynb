{
 "cells": [
  {
   "cell_type": "markdown",
   "metadata": {},
   "source": [
    "# Student Bag Price Prediction - Kaggle Version\n",
    "\n",
    "Quick and efficient implementation for Kaggle competition"
   ]
  },
  {
   "cell_type": "code",
   "execution_count": null,
   "metadata": {},
   "source": [
    "import pandas as pd\n",
    "import numpy as np\n",
    "from sklearn.preprocessing import LabelEncoder\n",
    "import lightgbm as lgb\n",
    "from sklearn.model_selection import KFold\n",
    "from sklearn.metrics import mean_squared_error"
   ]
  },
  {
   "cell_type": "code",
   "execution_count": null,
   "metadata": {},
   "source": [
    "# Load data\n",
    "train = pd.read_csv('/kaggle/input/playground-series-s5e2/train.csv')\n",
    "test = pd.read_csv('/kaggle/input/playground-series-s5e2/test.csv')\n",
    "train_extra = pd.read_csv('/kaggle/input/playground-series-s5e2/train_extra.csv')\n",
    "\n",
    "# Combine training data\n",
    "train = pd.concat([train, train_extra], axis=0, ignore_index=True)\n",
    "print(f'Training data shape: {train.shape}')"
   ]
  },
  {
   "cell_type": "code",
   "execution_count": null,
   "metadata": {},
   "source": [
    "def process_data(df):\n",
    "    df = df.copy()\n",
    "    \n",
    "    # Fill missing values\n",
    "    for col in ['Brand', 'Material', 'Size', 'Style', 'Color']:\n",
    "        df[col] = df[col].fillna('Unknown')\n",
    "    \n",
    "    # Binary features\n",
    "    df['Laptop Compartment'] = df['Laptop Compartment'].map({'Yes': 1, 'No': 0, 'Unknown': -1})\n",
    "    df['Waterproof'] = df['Waterproof'].map({'Yes': 1, 'No': 0, 'Unknown': -1})\n",
    "    \n",
    "    # Size encoding\n",
    "    df['size_numeric'] = df['Size'].map({'Small': 1, 'Medium': 2, 'Large': 3, 'Unknown': 0})\n",
    "    \n",
    "    # Feature engineering\n",
    "    df['premium_features'] = df['Laptop Compartment'] + df['Waterproof']\n",
    "    df['compartment_density'] = df['Compartments'] / df['size_numeric'].replace(0, 1)\n",
    "    df['brand_material'] = df['Brand'] + '_' + df['Material']\n",
    "    df['style_size'] = df['Style'] + '_' + df['Size']\n",
    "    \n",
    "    # Handle outliers\n",
    "    df['Weight Capacity (kg)'] = df['Weight Capacity (kg)'].clip(\n",
    "        df['Weight Capacity (kg)'].quantile(0.01),\n",
    "        df['Weight Capacity (kg)'].quantile(0.99)\n",
    "    )\n",
    "    \n",
    "    return df\n",
    "\n",
    "# Process data\n",
    "train = process_data(train)\n",
    "test = process_data(test)"
   ]
  },
  {
   "cell_type": "code",
   "execution_count": null,
   "metadata": {},
   "source": [
    "# Prepare categorical features\n",
    "cat_features = ['Brand', 'Material', 'Size', 'Style', 'Color', 'brand_material', 'style_size']\n",
    "encoders = {}\n",
    "\n",
    "for col in cat_features:\n",
    "    encoders[col] = LabelEncoder()\n",
    "    train[col] = encoders[col].fit_transform(train[col])\n",
    "    test[col] = test[col].map(lambda x: 'Unknown' if x not in encoders[col].classes_ else x)\n",
    "    test[col] = encoders[col].transform(test[col])"
   ]
  },
  {
   "cell_type": "code",
   "execution_count": null,
   "metadata": {},
   "source": [
    "# Features for model\n",
    "features = ['Brand', 'Material', 'size_numeric', 'Compartments',\n",
    "           'Laptop Compartment', 'Waterproof', 'Style', 'Color',\n",
    "           'Weight Capacity (kg)', 'premium_features', 'compartment_density',\n",
    "           'brand_material', 'style_size']\n",
    "\n",
    "X = train[features]\n",
    "y = train['Price']\n",
    "X_test = test[features]"
   ]
  },
  {
   "cell_type": "code",
   "execution_count": null,
   "metadata": {},
   "source": [
    "# LightGBM parameters\n",
    "params = {\n",
    "    'objective': 'regression',\n",
    "    'metric': 'rmse',\n",
    "    'num_leaves': 31,\n",
    "    'learning_rate': 0.05,\n",
    "    'feature_fraction': 0.9,\n",
    "    'bagging_fraction': 0.8,\n",
    "    'bagging_freq': 5,\n",
    "    'verbose': -1\n",
    "}\n",
    "\n",
    "# K-fold settings\n",
    "n_folds = 5\n",
    "kf = KFold(n_splits=n_folds, shuffle=True, random_state=42)\n",
    "\n",
    "# Arrays for storing results\n",
    "oof_predictions = np.zeros(len(X))\n",
    "test_predictions = np.zeros(len(X_test))\n",
    "scores = []\n",
    "\n",
    "# K-fold cross validation\n",
    "for fold, (train_idx, val_idx) in enumerate(kf.split(X)):\n",
    "    print(f'Fold {fold + 1}')\n",
    "    \n",
    "    X_train, X_val = X.iloc[train_idx], X.iloc[val_idx]\n",
    "    y_train, y_val = y.iloc[train_idx], y.iloc[val_idx]\n",
    "    \n",
    "    model = lgb.LGBMRegressor(**params)\n",
    "    model.fit(\n",
    "        X_train, y_train,\n",
    "        eval_set=[(X_val, y_val)],\n",
    "        early_stopping_rounds=50,\n",
    "        verbose=False\n",
    "    )\n",
    "    \n",
    "    # Validation predictions\n",
    "    val_pred = model.predict(X_val)\n",
    "    oof_predictions[val_idx] = val_pred\n",
    "    \n",
    "    # Test predictions\n",
    "    test_predictions += model.predict(X_test) / n_folds\n",
    "    \n",
    "    # Calculate score\n",
    "    score = np.sqrt(mean_squared_error(y_val, val_pred))\n",
    "    scores.append(score)\n",
    "    print(f'RMSE: {score}')\n",
    "\n",
    "print(f'\\nAverage RMSE: {np.mean(scores):.4f} ± {np.std(scores):.4f}')"
   ]
  },
  {
   "cell_type": "code",
   "execution_count": null,
   "metadata": {},
   "source": [
    "# Create submission\n",
    "submission = pd.DataFrame({\n",
    "    'id': test['id'],\n",
    "    'Price': test_predictions\n",
    "})\n",
    "\n",
    "submission.to_csv('submission.csv', index=False)\n",
    "print('Submission file created!')"
   ]
  }
 ],
 "metadata": {
  "kernelspec": {
   "display_name": "Python 3",
   "language": "python",
   "name": "python3"
  },
  "language_info": {
   "codemirror_mode": {
    "name": "ipython",
    "version": 3
   },
   "file_extension": ".py",
   "mimetype": "text/x-python",
   "name": "python",
   "nbconvert_exporter": "python",
   "pygments_lexer": "ipython3",
   "version": "3.8.0"
  }
 },
 "nbformat": 4,
 "nbformat_minor": 4
}
